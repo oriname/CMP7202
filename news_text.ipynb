{
 "cells": [
  {
   "cell_type": "code",
   "execution_count": null,
   "metadata": {},
   "outputs": [],
   "source": [
    "!pip install transformers\n",
    "!pip install torch\n",
    "!pip install bs4\n",
    "!pip install requests"
   ]
  },
  {
   "cell_type": "code",
   "execution_count": 2,
   "metadata": {},
   "outputs": [],
   "source": [
    "import requests\n",
    "from bs4 import BeautifulSoup\n",
    "from transformers import pipeline"
   ]
  },
  {
   "cell_type": "code",
   "execution_count": 3,
   "metadata": {},
   "outputs": [
    {
     "name": "stdout",
     "output_type": "stream",
     "text": [
      "Original Article:\n",
      "Over the last several months, OpenAI, and ChatGPT in particular, has shown what’s possible with a user interface built on top of a large language model that can answer questions and create code or pictures. While that alone is remarkable, we can also interact with and adjust the byproduct by having a conversation of sorts with the AI. It’s amazing really, but think about how transformative this could be by applying it to the enterprise applications you use on a daily basis. What if you could build an interface on top of your existing applications, so that instead of pointing and clicking, you could simply ask the computer to do a task for you and it would do it, based on the applications’ underlying model or your company’s internal language model. That would be a huge leap forward in computing. Before now, the biggest leap happened in 1984, when Apple introduced the graphical user interface that began a slow shift from the command line approach and eventually went mainstream in the early ’90s with the release of Windows 3.1 and later Windows 95. We’ve had other UX attempts, such as voice interfaces like Siri and Alexa, and while they brought some changes to the consumer side of things, they’re still not exactly the same thing as a computer producing work for us. It’s just finding some answers and in some cases executing simple commands. It certainly didn’t change the way we work, and that is the true measure of whether a new computing approach is truly transformational. If you could simply type an action like “Help me onboard a new employee” or “Generate a monthly P&L statement” instead of explicitly guiding the systems on what to do, that would be a fundamental leap forward in UX design. That’s what generative AI has the potential to do, but like anything else, it’s going to require some creativity to design these new interfaces in an elegant way, so it doesn’t feel like it’s bolted on to your old point-and-click interface. It’s also probably going to require more-focused large language models. \n",
      "\n",
      "Summarized Article:\n",
      " OpenAI has shown what’s possible with a user interface built on top of a large language model that can answer questions and create code or pictures . While that alone is remarkable, we can interact with and adjust the byproduct by having a conversation of sorts with the AI . Think about how transformative this could be by applying it to the enterprise applications you use on a daily basis .\n"
     ]
    }
   ],
   "source": [
    "\n",
    "def get_news_article(url):\n",
    "    response = requests.get(url)\n",
    "    soup = BeautifulSoup(response.text, 'html.parser')\n",
    "    paragraphs = soup.find_all('p')\n",
    "    article_text = ' '.join([paragraph.text for paragraph in paragraphs])\n",
    "    return article_text\n",
    "\n",
    "def summarize_article(article_text):\n",
    "    summarizer = pipeline(\"summarization\", model=\"sshleifer/distilbart-cnn-12-6\")\n",
    "    summary = summarizer(article_text, max_length=150, min_length=40, do_sample=False)[0]['summary_text']\n",
    "    return summary\n",
    "\n",
    "if __name__ == '__main__':\n",
    "    # Example news article URL\n",
    "    url = 'https://techcrunch.com/2023/04/08/generative-ai-enterprise-software'\n",
    "    \n",
    "    article_text = get_news_article(url)\n",
    "    summary = summarize_article(article_text)\n",
    "    \n",
    "    print(\"Original Article:\")\n",
    "    print(article_text)\n",
    "    print(\"\\nSummarized Article:\")\n",
    "    print(summary)"
   ]
  },
  {
   "attachments": {},
   "cell_type": "markdown",
   "metadata": {},
   "source": [
    "# Extractive text summarization using the frequency-based method"
   ]
  },
  {
   "cell_type": "code",
   "execution_count": null,
   "metadata": {},
   "outputs": [],
   "source": [
    "# install the necessary libraries\n",
    "\n",
    "!pip install nltk\n",
    "!pip install bs4\n",
    "!pip install requests\n",
    "!pip install tabulate"
   ]
  },
  {
   "cell_type": "code",
   "execution_count": 24,
   "metadata": {},
   "outputs": [
    {
     "name": "stderr",
     "output_type": "stream",
     "text": [
      "[nltk_data] Downloading package punkt to\n",
      "[nltk_data]     C:\\Users\\Oriname\\AppData\\Roaming\\nltk_data...\n",
      "[nltk_data]   Package punkt is already up-to-date!\n",
      "[nltk_data] Downloading package stopwords to\n",
      "[nltk_data]     C:\\Users\\Oriname\\AppData\\Roaming\\nltk_data...\n",
      "[nltk_data]   Package stopwords is already up-to-date!\n"
     ]
    },
    {
     "data": {
      "text/plain": [
       "True"
      ]
     },
     "execution_count": 24,
     "metadata": {},
     "output_type": "execute_result"
    }
   ],
   "source": [
    "# import the necessary libraries\n",
    "import requests\n",
    "import heapq\n",
    "import re\n",
    "import nltk\n",
    "from bs4 import BeautifulSoup\n",
    "from nltk.corpus import stopwords\n",
    "from nltk.tokenize import word_tokenize, sent_tokenize\n",
    "from tabulate import tabulate\n",
    "\n",
    "nltk.download('punkt')\n",
    "nltk.download('stopwords')"
   ]
  },
  {
   "cell_type": "code",
   "execution_count": 25,
   "metadata": {},
   "outputs": [],
   "source": [
    "# define the functions\n",
    "\n",
    "def get_news_article(url):\n",
    "    response = requests.get(url)\n",
    "    soup = BeautifulSoup(response.text, 'html.parser')\n",
    "    paragraphs = soup.find_all('p')\n",
    "    article_text = ' '.join([paragraph.text for paragraph in paragraphs])\n",
    "    return article_text\n",
    "\n",
    "def extractive_summarization(article_text, summary_length=7):\n",
    "    article_text = re.sub(r'\\s+', ' ', article_text)\n",
    "    formatted_article_text = re.sub('[^a-zA-Z]', ' ', article_text)\n",
    "    formatted_article_text = re.sub(r'\\s+', ' ', formatted_article_text)\n",
    "\n",
    "    sentence_list = sent_tokenize(article_text)\n",
    "    word_frequencies = {}\n",
    "\n",
    "    for word in word_tokenize(formatted_article_text):\n",
    "        if word.lower() not in stopwords.words('english'):\n",
    "            if word.lower() not in word_frequencies.keys():\n",
    "                word_frequencies[word.lower()] = 1\n",
    "            else:\n",
    "                word_frequencies[word.lower()] += 1\n",
    "\n",
    "    maximum_frequency = max(word_frequencies.values())\n",
    "\n",
    "    for word in word_frequencies.keys():\n",
    "        word_frequencies[word] = (word_frequencies[word] / maximum_frequency)\n",
    "\n",
    "    sentence_scores = {}\n",
    "    for sent in sentence_list:\n",
    "        for word in word_tokenize(sent.lower()):\n",
    "            if word in word_frequencies.keys():\n",
    "                if sent not in sentence_scores.keys():\n",
    "                    sentence_scores[sent] = word_frequencies[word]\n",
    "                else:\n",
    "                    sentence_scores[sent] += word_frequencies[word]\n",
    "\n",
    "    summary_sentences = heapq.nlargest(summary_length, sentence_scores, key=sentence_scores.get)\n",
    "    summary = ' '.join(summary_sentences)\n",
    "    return summary, sentence_scores \n",
    "\n",
    "\n"
   ]
  },
  {
   "cell_type": "code",
   "execution_count": 26,
   "metadata": {},
   "outputs": [
    {
     "name": "stdout",
     "output_type": "stream",
     "text": [
      "Original Article:\n",
      "Over the last several months, OpenAI, and ChatGPT in particular, has shown what’s possible with a user interface built on top of a large language model that can answer questions and create code or pictures. While that alone is remarkable, we can also interact with and adjust the byproduct by having a conversation of sorts with the AI. It’s amazing really, but think about how transformative this could be by applying it to the enterprise applications you use on a daily basis. What if you could build an interface on top of your existing applications, so that instead of pointing and clicking, you could simply ask the computer to do a task for you and it would do it, based on the applications’ underlying model or your company’s internal language model. That would be a huge leap forward in computing. Before now, the biggest leap happened in 1984, when Apple introduced the graphical user interface that began a slow shift from the command line approach and eventually went mainstream in the early ’90s with the release of Windows 3.1 and later Windows 95. We’ve had other UX attempts, such as voice interfaces like Siri and Alexa, and while they brought some changes to the consumer side of things, they’re still not exactly the same thing as a computer producing work for us. It’s just finding some answers and in some cases executing simple commands. It certainly didn’t change the way we work, and that is the true measure of whether a new computing approach is truly transformational. If you could simply type an action like “Help me onboard a new employee” or “Generate a monthly P&L statement” instead of explicitly guiding the systems on what to do, that would be a fundamental leap forward in UX design. That’s what generative AI has the potential to do, but like anything else, it’s going to require some creativity to design these new interfaces in an elegant way, so it doesn’t feel like it’s bolted on to your old point-and-click interface. It’s also probably going to require more-focused large language models. \n",
      "\n",
      "Sentence Scores:\n",
      "Sentence                                                                                                                                                                                                                                                                                  Score\n",
      "--------------------------------------------------------------------------------------------------------------------------------------------------------------------------------------------------------------------------------------------------------------------------------------  -------\n",
      "Over the last several months, OpenAI, and ChatGPT in particular, has shown what’s possible with a user interface built on top of a large language model that can answer questions and create code or pictures.                                                                             7.5\n",
      "While that alone is remarkable, we can also interact with and adjust the byproduct by having a conversation of sorts with the AI.                                                                                                                                                          2.75\n",
      "It’s amazing really, but think about how transformative this could be by applying it to the enterprise applications you use on a daily basis.                                                                                                                                              4\n",
      "What if you could build an interface on top of your existing applications, so that instead of pointing and clicking, you could simply ask the computer to do a task for you and it would do it, based on the applications’ underlying model or your company’s internal language model.    12\n",
      "That would be a huge leap forward in computing.                                                                                                                                                                                                                                            2.75\n",
      "Before now, the biggest leap happened in 1984, when Apple introduced the graphical user interface that began a slow shift from the command line approach and eventually went mainstream in the early ’90s with the release of Windows 3.1 and later Windows 95.                            7.75\n",
      "We’ve had other UX attempts, such as voice interfaces like Siri and Alexa, and while they brought some changes to the consumer side of things, they’re still not exactly the same thing as a computer producing work for us.                                                               6.5\n",
      "It’s just finding some answers and in some cases executing simple commands.                                                                                                                                                                                                                1.5\n",
      "It certainly didn’t change the way we work, and that is the true measure of whether a new computing approach is truly transformational.                                                                                                                                                    4.5\n",
      "If you could simply type an action like “Help me onboard a new employee” or “Generate a monthly P&L statement” instead of explicitly guiding the systems on what to do, that would be a fundamental leap forward in UX design.                                                            10.25\n",
      "That’s what generative AI has the potential to do, but like anything else, it’s going to require some creativity to design these new interfaces in an elegant way, so it doesn’t feel like it’s bolted on to your old point-and-click interface.                                           9\n",
      "It’s also probably going to require more-focused large language models.                                                                                                                                                                                                                    3.25\n",
      "\n",
      "Summarized Article:\n",
      "What if you could build an interface on top of your existing applications, so that instead of pointing and clicking, you could simply ask the computer to do a task for you and it would do it, based on the applications’ underlying model or your company’s internal language model. If you could simply type an action like “Help me onboard a new employee” or “Generate a monthly P&L statement” instead of explicitly guiding the systems on what to do, that would be a fundamental leap forward in UX design. That’s what generative AI has the potential to do, but like anything else, it’s going to require some creativity to design these new interfaces in an elegant way, so it doesn’t feel like it’s bolted on to your old point-and-click interface. Before now, the biggest leap happened in 1984, when Apple introduced the graphical user interface that began a slow shift from the command line approach and eventually went mainstream in the early ’90s with the release of Windows 3.1 and later Windows 95. Over the last several months, OpenAI, and ChatGPT in particular, has shown what’s possible with a user interface built on top of a large language model that can answer questions and create code or pictures. We’ve had other UX attempts, such as voice interfaces like Siri and Alexa, and while they brought some changes to the consumer side of things, they’re still not exactly the same thing as a computer producing work for us. It certainly didn’t change the way we work, and that is the true measure of whether a new computing approach is truly transformational.\n"
     ]
    }
   ],
   "source": [
    "# test the functions\n",
    "if __name__ == '__main__':\n",
    "    url = 'https://techcrunch.com/2023/04/08/generative-ai-enterprise-software'\n",
    "\n",
    "    article_text = get_news_article(url)\n",
    "    summary, sentence_scores = extractive_summarization(article_text)\n",
    "\n",
    "    print(\"Original Article:\")\n",
    "    print(article_text)\n",
    "    print(\"\\nSentence Scores:\")\n",
    "\n",
    "    table_data = [(sentence, score) for sentence, score in sentence_scores.items()]\n",
    "    print(tabulate(table_data, headers=[\"Sentence\", \"Score\"]))  # Add this line\n",
    "\n",
    "    print(\"\\nSummarized Article:\")\n",
    "    print(summary)"
   ]
  }
 ],
 "metadata": {
  "kernelspec": {
   "display_name": "Python 3",
   "language": "python",
   "name": "python3"
  },
  "language_info": {
   "codemirror_mode": {
    "name": "ipython",
    "version": 3
   },
   "file_extension": ".py",
   "mimetype": "text/x-python",
   "name": "python",
   "nbconvert_exporter": "python",
   "pygments_lexer": "ipython3",
   "version": "3.10.11"
  },
  "orig_nbformat": 4,
  "vscode": {
   "interpreter": {
    "hash": "73932ea65ee03cbf8daf991b3522f81d58fb39e48569d67b91d21cdd89315796"
   }
  }
 },
 "nbformat": 4,
 "nbformat_minor": 2
}
